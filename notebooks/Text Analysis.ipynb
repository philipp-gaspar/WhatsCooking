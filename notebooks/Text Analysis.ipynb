{
 "cells": [
  {
   "cell_type": "markdown",
   "metadata": {},
   "source": [
    "# Text Analysis\n",
    "\n",
    "Now let's have a closer look at the strings that compose the list of ingredients of each recipe. We can see from previous plots that we have the same ingredient presented in diffrent forms or variations in each recipe. \n",
    "\n",
    "Example:\n",
    "* Garlic = Garlic Cloves\n",
    "* Tomatoes = Diced Tomatoes\n",
    "* Ground Black Pepper = Black Pepper"
   ]
  },
  {
   "cell_type": "code",
   "execution_count": null,
   "metadata": {},
   "outputs": [],
   "source": [
    "regex = (r'\\btomatoes\\b')\n",
    "\n",
    "\n",
    "a = ingredients_count.index[ingredients_count.index.str.contains(r'\\btomato\\b')]\n",
    "ingredients_count[a].head(50)"
   ]
  },
  {
   "cell_type": "code",
   "execution_count": null,
   "metadata": {},
   "outputs": [],
   "source": [
    "a = list(ingredients_count.index[ingredients_count.index.str.contains(u'[©|™|®]')])\n",
    "ingredients_count[a].head()"
   ]
  },
  {
   "cell_type": "code",
   "execution_count": null,
   "metadata": {},
   "outputs": [],
   "source": [
    "a = list(ingredients_count.index[ingredients_count.index.str.contains(u'at')])\n",
    "ingredients_count[a].head()"
   ]
  }
 ],
 "metadata": {
  "kernelspec": {
   "display_name": "Python 2",
   "language": "python",
   "name": "python2"
  },
  "language_info": {
   "codemirror_mode": {
    "name": "ipython",
    "version": 2
   },
   "file_extension": ".py",
   "mimetype": "text/x-python",
   "name": "python",
   "nbconvert_exporter": "python",
   "pygments_lexer": "ipython2",
   "version": "2.7.14"
  }
 },
 "nbformat": 4,
 "nbformat_minor": 2
}
